{
 "cells": [
  {
   "cell_type": "code",
   "execution_count": 1,
   "metadata": {},
   "outputs": [],
   "source": [
    "import numpy as np\n",
    "import matplotlib.pyplot as plt\n",
    "import pylab\n",
    "#import imageio\n",
    "#import skimage.io\n",
    "import numpy as np  \n",
    "import cv2 as cv"
   ]
  },
  {
   "cell_type": "code",
   "execution_count": 2,
   "metadata": {},
   "outputs": [],
   "source": [
    "from __future__ import print_function\n",
    "from numpy import pi, sin, cos\n",
    "from time import clock\n",
    "#from tst_scene_render import TestSceneRender"
   ]
  },
  {
   "cell_type": "code",
   "execution_count": 3,
   "metadata": {},
   "outputs": [],
   "source": [
    "capl = cv.VideoCapture(0)#创建一个 VideoCapture 对象\n"
   ]
  },
  {
   "cell_type": "code",
   "execution_count": 4,
   "metadata": {},
   "outputs": [],
   "source": [
    "capl.set(5, 30);  \n",
    "capl.set(3, 1280);  #//640 1280\n",
    "capl.set(4, 720);#//480 720"
   ]
  },
  {
   "cell_type": "code",
   "execution_count": 11,
   "metadata": {},
   "outputs": [],
   "source": [
    "capl.set??"
   ]
  },
  {
   "cell_type": "code",
   "execution_count": 10,
   "metadata": {},
   "outputs": [
    {
     "ename": "TypeError",
     "evalue": "must be real number, not str",
     "output_type": "error",
     "traceback": [
      "\u001b[0;31m---------------------------------------------------------------------------\u001b[0m",
      "\u001b[0;31mTypeError\u001b[0m                                 Traceback (most recent call last)",
      "\u001b[0;32m<ipython-input-10-a42c588ca8dd>\u001b[0m in \u001b[0;36m<module>\u001b[0;34m()\u001b[0m\n\u001b[0;32m----> 1\u001b[0;31m \u001b[0mcapl\u001b[0m\u001b[0;34m.\u001b[0m\u001b[0mset\u001b[0m\u001b[0;34m(\u001b[0m\u001b[0;36m6\u001b[0m\u001b[0;34m,\u001b[0m\u001b[0;34m'MJPG'\u001b[0m\u001b[0;34m)\u001b[0m\u001b[0;34m;\u001b[0m\u001b[0;34m\u001b[0m\u001b[0m\n\u001b[0m",
      "\u001b[0;31mTypeError\u001b[0m: must be real number, not str"
     ]
    }
   ],
   "source": [
    "capl.set(6,'MJPG');"
   ]
  },
  {
   "cell_type": "code",
   "execution_count": 6,
   "metadata": {},
   "outputs": [],
   "source": [
    "while(capl.isOpened()):#循环读取每一帧\n",
    "    ret_flag , Vshow = capl.read()\n",
    "    cv.imshow(\"Capture_Test\",Vshow)  #窗口显示，显示名为 Capture_Test\n",
    "    k = cv.waitKey(1)  #每帧数据延时 1ms，延时不能为 0，否则读取的结果会是静态帧\n",
    "    if  k == ord('s'):  #若检测到按键 ‘s’，打印字符串\n",
    "        print(capl.get(3));\n",
    "        print(capl.get(4));\n",
    "    elif k == ord('q'): #若检测到按键 ‘q’，退出\n",
    "        break\n",
    "capl.release() #释放摄像头\n",
    "cv.destroyAllWindows()#删除建立的全部窗口"
   ]
  },
  {
   "cell_type": "code",
   "execution_count": null,
   "metadata": {},
   "outputs": [],
   "source": [
    "# -*- coding:utf-8-*-\n",
    "\n",
    "import numpy as np\n",
    "import cv2\n",
    "\n",
    "#0号摄像头，也可以1、2，lsusb查看\n",
    "cap = cv2.VideoCapture(0)\n",
    "\n",
    "#设置分辨率\n",
    "cap.set(3,1280)\n",
    "cap.set(4,1024)\n",
    "time.sleep(2) #必须要此步骤，否则失败\n",
    "cap.set(15, -8.0)\n",
    "\n",
    "#只能是如下选择分辨率.\n",
    "#160.0 x 120.0\n",
    "#176.0 x 144.0\n",
    "#320.0 x 240.0\n",
    "#352.0 x 288.0\n",
    "#640.0 x 480.0\n",
    "#1024.0 x 768.0\n",
    "#1280.0 x 1024.0\n",
    "\n",
    "fps = cap.get(cv2.cv.CV_CAP_PROP_FPS)\n",
    "size = (int(cap.get(cv2.cv.CV_CAP_PROP_FRAME_WIDTH)),\n",
    "        int(cap.get(cv2.cv.CV_CAP_PROP_FRAME_HEIGHT)))\n",
    "fourcc = cv2.cv.FOURCC(*'CVID')\n",
    "out = cv2.VideoWriter(filePath, fourcc, fps, size)\n",
    "\n",
    "while (cap.isOpened()):\n",
    "    ret, frame = cap.read()\n",
    "    if ret == True:\n",
    "        frame = cv2.flip(frame, 0)\n",
    "        gray = cv2.cvtColor(frame,  cv2.COLOR_BGR2GRAY)\n",
    "        cv2.imshow('iframe', gray)\n",
    "        out.write(gray)\n",
    "\n",
    "        if cv2.waitKey(1) & 0xFF == ord('q'):\n",
    "            break\n",
    "    else:\n",
    "        break\n",
    "cap.release()\n",
    "out.release()\n",
    "cv2.destroyAllWindows()"
   ]
  }
 ],
 "metadata": {
  "kernelspec": {
   "display_name": "Python [conda env:gluon]",
   "language": "python",
   "name": "conda-env-gluon-py"
  },
  "language_info": {
   "codemirror_mode": {
    "name": "ipython",
    "version": 3
   },
   "file_extension": ".py",
   "mimetype": "text/x-python",
   "name": "python",
   "nbconvert_exporter": "python",
   "pygments_lexer": "ipython3",
   "version": "3.6.5"
  }
 },
 "nbformat": 4,
 "nbformat_minor": 2
}
