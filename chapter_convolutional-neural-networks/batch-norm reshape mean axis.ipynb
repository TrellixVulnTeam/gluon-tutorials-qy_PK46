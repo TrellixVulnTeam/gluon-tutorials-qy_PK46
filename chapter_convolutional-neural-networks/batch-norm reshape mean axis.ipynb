{
 "cells": [
  {
   "cell_type": "code",
   "execution_count": 1,
   "metadata": {},
   "outputs": [],
   "source": [
    "from mxnet import nd"
   ]
  },
  {
   "cell_type": "code",
   "execution_count": 2,
   "metadata": {},
   "outputs": [],
   "source": [
    "x=nd.array([1,2,3,4])"
   ]
  },
  {
   "cell_type": "code",
   "execution_count": 8,
   "metadata": {},
   "outputs": [
    {
     "data": {
      "text/plain": [
       "\n",
       "[ 1.  4.  9. 16.]\n",
       "<NDArray 4 @cpu(0)>"
      ]
     },
     "execution_count": 8,
     "metadata": {},
     "output_type": "execute_result"
    }
   ],
   "source": [
    "x**2"
   ]
  },
  {
   "cell_type": "code",
   "execution_count": 14,
   "metadata": {},
   "outputs": [],
   "source": [
    "x2=nd.random.normal(0,1,shape=(3,4))"
   ]
  },
  {
   "cell_type": "code",
   "execution_count": 16,
   "metadata": {},
   "outputs": [
    {
     "data": {
      "text/plain": [
       "\n",
       "[[ 0.7740038   1.0434405   1.1839255   1.8917114 ]\n",
       " [-1.2347414  -1.771029   -0.45138445  0.57938355]\n",
       " [-1.856082   -1.9768796  -0.20801921  0.2444218 ]]\n",
       "<NDArray 3x4 @cpu(0)>"
      ]
     },
     "execution_count": 16,
     "metadata": {},
     "output_type": "execute_result"
    }
   ],
   "source": [
    "x2"
   ]
  },
  {
   "cell_type": "code",
   "execution_count": 17,
   "metadata": {},
   "outputs": [
    {
     "data": {
      "text/plain": [
       "\n",
       "[-0.77227324 -0.90148944  0.17484061  0.9051723 ]\n",
       "<NDArray 4 @cpu(0)>"
      ]
     },
     "execution_count": 17,
     "metadata": {},
     "output_type": "execute_result"
    }
   ],
   "source": [
    "mean=x2.mean(axis=0);mean"
   ]
  },
  {
   "cell_type": "code",
   "execution_count": 18,
   "metadata": {},
   "outputs": [
    {
     "data": {
      "text/plain": [
       "\n",
       "[[1. 2. 3. 4.]\n",
       " [2. 3. 4. 5.]\n",
       " [3. 4. 5. 6.]]\n",
       "<NDArray 3x4 @cpu(0)>"
      ]
     },
     "execution_count": 18,
     "metadata": {},
     "output_type": "execute_result"
    }
   ],
   "source": [
    "x3=nd.array([[1,2,3,4],\n",
    "             [2,3,4,5],\n",
    "             [3,4,5,6]]);x3"
   ]
  },
  {
   "cell_type": "code",
   "execution_count": 23,
   "metadata": {},
   "outputs": [
    {
     "data": {
      "text/plain": [
       "(3, 4)"
      ]
     },
     "execution_count": 23,
     "metadata": {},
     "output_type": "execute_result"
    }
   ],
   "source": [
    "x3.shape"
   ]
  },
  {
   "cell_type": "code",
   "execution_count": 26,
   "metadata": {},
   "outputs": [
    {
     "data": {
      "text/plain": [
       "\n",
       "[2. 3. 4. 5.]\n",
       "<NDArray 4 @cpu(0)>"
      ]
     },
     "execution_count": 26,
     "metadata": {},
     "output_type": "execute_result"
    }
   ],
   "source": [
    "mean = x3.mean(axis=0);mean"
   ]
  },
  {
   "cell_type": "code",
   "execution_count": 30,
   "metadata": {},
   "outputs": [
    {
     "data": {
      "text/plain": [
       "\n",
       "[0.6666667 0.6666667 0.6666667 0.6666667]\n",
       "<NDArray 4 @cpu(0)>"
      ]
     },
     "execution_count": 30,
     "metadata": {},
     "output_type": "execute_result"
    }
   ],
   "source": [
    "((x3-mean)**2).mean(axis=0)"
   ]
  },
  {
   "cell_type": "code",
   "execution_count": 36,
   "metadata": {},
   "outputs": [
    {
     "data": {
      "text/plain": [
       "\n",
       "[ 0.  1.  2.  3.  4.  5.  6.  7.  8.  9. 10. 11. 12. 13. 14. 15. 16. 17.\n",
       " 18. 19. 20. 21. 22. 23. 24. 25. 26. 27. 28. 29. 30. 31. 32. 33. 34. 35.\n",
       " 36. 37. 38. 39. 40. 41. 42. 43. 44. 45. 46. 47. 48. 49. 50. 51. 52. 53.\n",
       " 54. 55. 56. 57. 58. 59. 60. 61. 62. 63. 64. 65. 66. 67. 68. 69. 70. 71.]\n",
       "<NDArray 72 @cpu(0)>"
      ]
     },
     "execution_count": 36,
     "metadata": {},
     "output_type": "execute_result"
    }
   ],
   "source": [
    "x4=nd.arange(3*2*3*4);x4"
   ]
  },
  {
   "cell_type": "code",
   "execution_count": 38,
   "metadata": {},
   "outputs": [
    {
     "data": {
      "text/plain": [
       "\n",
       "[[[[ 0.  1.  2.  3.]\n",
       "   [ 4.  5.  6.  7.]\n",
       "   [ 8.  9. 10. 11.]]\n",
       "\n",
       "  [[12. 13. 14. 15.]\n",
       "   [16. 17. 18. 19.]\n",
       "   [20. 21. 22. 23.]]]\n",
       "\n",
       "\n",
       " [[[24. 25. 26. 27.]\n",
       "   [28. 29. 30. 31.]\n",
       "   [32. 33. 34. 35.]]\n",
       "\n",
       "  [[36. 37. 38. 39.]\n",
       "   [40. 41. 42. 43.]\n",
       "   [44. 45. 46. 47.]]]\n",
       "\n",
       "\n",
       " [[[48. 49. 50. 51.]\n",
       "   [52. 53. 54. 55.]\n",
       "   [56. 57. 58. 59.]]\n",
       "\n",
       "  [[60. 61. 62. 63.]\n",
       "   [64. 65. 66. 67.]\n",
       "   [68. 69. 70. 71.]]]]\n",
       "<NDArray 3x2x3x4 @cpu(0)>"
      ]
     },
     "execution_count": 38,
     "metadata": {},
     "output_type": "execute_result"
    }
   ],
   "source": [
    "x4_1=x4.reshape((3,2,3,4));x4_1"
   ]
  },
  {
   "cell_type": "code",
   "execution_count": 41,
   "metadata": {},
   "outputs": [
    {
     "data": {
      "text/plain": [
       "\n",
       "[[[[29.5]]\n",
       "\n",
       "  [[41.5]]]]\n",
       "<NDArray 1x2x1x1 @cpu(0)>"
      ]
     },
     "execution_count": 41,
     "metadata": {},
     "output_type": "execute_result"
    }
   ],
   "source": [
    "mean_x4_1=x4_1.mean(axis=(0,2,3),keepdims=1);mean_x4_1"
   ]
  },
  {
   "cell_type": "code",
   "execution_count": 44,
   "metadata": {},
   "outputs": [
    {
     "name": "stdout",
     "output_type": "stream",
     "text": [
      "-29.5\n"
     ]
    },
    {
     "data": {
      "text/plain": [
       "\n",
       "[[[[ 0.  1.  2.  3.]\n",
       "   [ 4.  5.  6.  7.]\n",
       "   [ 8.  9. 10. 11.]]\n",
       "\n",
       "  [[12. 13. 14. 15.]\n",
       "   [16. 17. 18. 19.]\n",
       "   [20. 21. 22. 23.]]]\n",
       "\n",
       "\n",
       " [[[24. 25. 26. 27.]\n",
       "   [28. 29. 30. 31.]\n",
       "   [32. 33. 34. 35.]]\n",
       "\n",
       "  [[36. 37. 38. 39.]\n",
       "   [40. 41. 42. 43.]\n",
       "   [44. 45. 46. 47.]]]\n",
       "\n",
       "\n",
       " [[[48. 49. 50. 51.]\n",
       "   [52. 53. 54. 55.]\n",
       "   [56. 57. 58. 59.]]\n",
       "\n",
       "  [[60. 61. 62. 63.]\n",
       "   [64. 65. 66. 67.]\n",
       "   [68. 69. 70. 71.]]]]\n",
       "<NDArray 3x2x3x4 @cpu(0)>"
      ]
     },
     "execution_count": 44,
     "metadata": {},
     "output_type": "execute_result"
    }
   ],
   "source": [
    "print(12-41.5)\n",
    "x4_1"
   ]
  },
  {
   "cell_type": "code",
   "execution_count": 48,
   "metadata": {},
   "outputs": [],
   "source": [
    "variance_x4=((x4_1-mean_x4_1)**2).mean(axis=(0,2,3),keepdims=True)"
   ]
  },
  {
   "cell_type": "code",
   "execution_count": 49,
   "metadata": {},
   "outputs": [
    {
     "data": {
      "text/plain": [
       "\n",
       "[[[[-1.4825867  -1.4323295  -1.3820723  -1.3318152 ]\n",
       "   [-1.281558   -1.2313008  -1.1810436  -1.1307865 ]\n",
       "   [-1.0805293  -1.0302721  -0.980015   -0.9297578 ]]\n",
       "\n",
       "  [[-1.4825867  -1.4323295  -1.3820723  -1.3318152 ]\n",
       "   [-1.281558   -1.2313008  -1.1810436  -1.1307865 ]\n",
       "   [-1.0805293  -1.0302721  -0.980015   -0.9297578 ]]]\n",
       "\n",
       "\n",
       " [[[-0.27641448 -0.2261573  -0.17590012 -0.12564294]\n",
       "   [-0.07538576 -0.02512859  0.02512859  0.07538576]\n",
       "   [ 0.12564294  0.17590012  0.2261573   0.27641448]]\n",
       "\n",
       "  [[-0.27641448 -0.2261573  -0.17590012 -0.12564294]\n",
       "   [-0.07538576 -0.02512859  0.02512859  0.07538576]\n",
       "   [ 0.12564294  0.17590012  0.2261573   0.27641448]]]\n",
       "\n",
       "\n",
       " [[[ 0.9297578   0.980015    1.0302721   1.0805293 ]\n",
       "   [ 1.1307865   1.1810436   1.2313008   1.281558  ]\n",
       "   [ 1.3318152   1.3820723   1.4323295   1.4825867 ]]\n",
       "\n",
       "  [[ 0.9297578   0.980015    1.0302721   1.0805293 ]\n",
       "   [ 1.1307865   1.1810436   1.2313008   1.281558  ]\n",
       "   [ 1.3318152   1.3820723   1.4323295   1.4825867 ]]]]\n",
       "<NDArray 3x2x3x4 @cpu(0)>"
      ]
     },
     "execution_count": 49,
     "metadata": {},
     "output_type": "execute_result"
    }
   ],
   "source": [
    "x_hat=(x4_1-mean_x4_1)/nd.sqrt(variance_x4+1e-5);x_hat"
   ]
  },
  {
   "cell_type": "code",
   "execution_count": 50,
   "metadata": {},
   "outputs": [],
   "source": [
    "gamma=nd.array([1,1])"
   ]
  },
  {
   "cell_type": "code",
   "execution_count": 51,
   "metadata": {},
   "outputs": [],
   "source": [
    "beta=nd.array([0,0])"
   ]
  },
  {
   "cell_type": "code",
   "execution_count": 56,
   "metadata": {},
   "outputs": [
    {
     "data": {
      "text/plain": [
       "\n",
       "[[[[-1.4825867  -1.4323295  -1.3820723  -1.3318152 ]\n",
       "   [-1.281558   -1.2313008  -1.1810436  -1.1307865 ]\n",
       "   [-1.0805293  -1.0302721  -0.980015   -0.9297578 ]]\n",
       "\n",
       "  [[-1.4825867  -1.4323295  -1.3820723  -1.3318152 ]\n",
       "   [-1.281558   -1.2313008  -1.1810436  -1.1307865 ]\n",
       "   [-1.0805293  -1.0302721  -0.980015   -0.9297578 ]]]\n",
       "\n",
       "\n",
       " [[[-0.27641448 -0.2261573  -0.17590012 -0.12564294]\n",
       "   [-0.07538576 -0.02512859  0.02512859  0.07538576]\n",
       "   [ 0.12564294  0.17590012  0.2261573   0.27641448]]\n",
       "\n",
       "  [[-0.27641448 -0.2261573  -0.17590012 -0.12564294]\n",
       "   [-0.07538576 -0.02512859  0.02512859  0.07538576]\n",
       "   [ 0.12564294  0.17590012  0.2261573   0.27641448]]]\n",
       "\n",
       "\n",
       " [[[ 0.9297578   0.980015    1.0302721   1.0805293 ]\n",
       "   [ 1.1307865   1.1810436   1.2313008   1.281558  ]\n",
       "   [ 1.3318152   1.3820723   1.4323295   1.4825867 ]]\n",
       "\n",
       "  [[ 0.9297578   0.980015    1.0302721   1.0805293 ]\n",
       "   [ 1.1307865   1.1810436   1.2313008   1.281558  ]\n",
       "   [ 1.3318152   1.3820723   1.4323295   1.4825867 ]]]]\n",
       "<NDArray 3x2x3x4 @cpu(0)>"
      ]
     },
     "execution_count": 56,
     "metadata": {},
     "output_type": "execute_result"
    }
   ],
   "source": [
    "gamma.reshape(mean_x4_1.shape)*x_hat+beta.reshape(mean_x4_1.shape)"
   ]
  }
 ],
 "metadata": {
  "kernelspec": {
   "display_name": "Python 3",
   "language": "python",
   "name": "python3"
  },
  "language_info": {
   "codemirror_mode": {
    "name": "ipython",
    "version": 3
   },
   "file_extension": ".py",
   "mimetype": "text/x-python",
   "name": "python",
   "nbconvert_exporter": "python",
   "pygments_lexer": "ipython3",
   "version": "3.6.5"
  },
  "toc": {
   "base_numbering": 1,
   "nav_menu": {},
   "number_sections": true,
   "sideBar": true,
   "skip_h1_title": false,
   "title_cell": "Table of Contents",
   "title_sidebar": "Contents",
   "toc_cell": false,
   "toc_position": {},
   "toc_section_display": true,
   "toc_window_display": false
  },
  "varInspector": {
   "cols": {
    "lenName": 16,
    "lenType": 16,
    "lenVar": 40
   },
   "kernels_config": {
    "python": {
     "delete_cmd_postfix": "",
     "delete_cmd_prefix": "del ",
     "library": "var_list.py",
     "varRefreshCmd": "print(var_dic_list())"
    },
    "r": {
     "delete_cmd_postfix": ") ",
     "delete_cmd_prefix": "rm(",
     "library": "var_list.r",
     "varRefreshCmd": "cat(var_dic_list()) "
    }
   },
   "types_to_exclude": [
    "module",
    "function",
    "builtin_function_or_method",
    "instance",
    "_Feature"
   ],
   "window_display": false
  }
 },
 "nbformat": 4,
 "nbformat_minor": 2
}
